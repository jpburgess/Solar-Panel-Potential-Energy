{
 "cells": [
  {
   "cell_type": "code",
   "execution_count": 2,
   "metadata": {},
   "outputs": [],
   "source": [
    "import pandas as pd\n",
    "from pathlib import Path\n",
    "import re\n",
    "from datetime import datetime as dt\n",
    "import glob\n",
    "import os"
   ]
  },
  {
   "cell_type": "code",
   "execution_count": 3,
   "metadata": {},
   "outputs": [],
   "source": [
    "# Loading the preprocessed nrel dataset\n",
    "\n",
    "url = \"https://raw.githubusercontent.com/jpburgess/Solar-Panel-Potential-Energy/main/Resources/solar_data_2015.csv\"\n",
    "\n",
    "url1 = \"https://raw.githubusercontent.com/jpburgess/Solar-Panel-Potential-Energy/main/Resources/solar_data_2016.csv\"\n",
    "\n",
    "url2 = \"https://raw.githubusercontent.com/jpburgess/Solar-Panel-Potential-Energy/main/Resources/solar_data_2017.csv\"\n",
    "\n",
    "url3 = \"https://raw.githubusercontent.com/jpburgess/Solar-Panel-Potential-Energy/main/Resources/solar_data_2018.csv\"\n",
    "\n",
    "solar_nrel = pd.read_csv(url)\n",
    "solar_nrel1 = pd.read_csv(url1)\n",
    "solar_nrel2 = pd.read_csv(url2)\n",
    "solar_nrel3 = pd.read_csv(url3)\n",
    "\n"
   ]
  },
  {
   "cell_type": "code",
   "execution_count": 4,
   "metadata": {},
   "outputs": [
    {
     "data": {
      "text/plain": [
       "Unnamed: 0             object\n",
       "Year                    int64\n",
       "Month                   int64\n",
       "Day                     int64\n",
       "Hour                    int64\n",
       "Minute                  int64\n",
       "GHI                     int64\n",
       "DHI                     int64\n",
       "DNI                     int64\n",
       "Wind Speed            float64\n",
       "Temperature           float64\n",
       "Cloud Type              int64\n",
       "Solar Zenith Angle    float64\n",
       "Surface Albedo        float64\n",
       "Wind Direction          int64\n",
       "Pressure                int64\n",
       "Precipitable Water    float64\n",
       "Relative Humidity     float64\n",
       "dtype: object"
      ]
     },
     "execution_count": 4,
     "metadata": {},
     "output_type": "execute_result"
    }
   ],
   "source": [
    "solar_nrel3.dtypes"
   ]
  },
  {
   "cell_type": "code",
   "execution_count": 5,
   "metadata": {},
   "outputs": [],
   "source": [
    "solar_nrel[\"Unnamed: 0\"] = pd.to_datetime(solar_nrel[\"Unnamed: 0\"])\n",
    "solar_nrel1[\"Unnamed: 0\"] = pd.to_datetime(solar_nrel1[\"Unnamed: 0\"])\n",
    "solar_nrel2[\"Unnamed: 0\"] = pd.to_datetime(solar_nrel2[\"Unnamed: 0\"])\n",
    "solar_nrel3[\"Unnamed: 0\"] = pd.to_datetime(solar_nrel3[\"Unnamed: 0\"])\n"
   ]
  },
  {
   "cell_type": "code",
   "execution_count": 6,
   "metadata": {},
   "outputs": [],
   "source": [
    "# REFORMAT DATETIME HERE?"
   ]
  },
  {
   "cell_type": "code",
   "execution_count": 7,
   "metadata": {},
   "outputs": [
    {
     "data": {
      "text/plain": [
       "Unnamed: 0            datetime64[ns]\n",
       "Year                           int64\n",
       "Month                          int64\n",
       "Day                            int64\n",
       "Hour                           int64\n",
       "Minute                         int64\n",
       "GHI                            int64\n",
       "DHI                            int64\n",
       "DNI                            int64\n",
       "Wind Speed                   float64\n",
       "Temperature                  float64\n",
       "Cloud Type                     int64\n",
       "Solar Zenith Angle           float64\n",
       "Surface Albedo               float64\n",
       "Wind Direction                 int64\n",
       "Pressure                       int64\n",
       "Precipitable Water           float64\n",
       "Relative Humidity            float64\n",
       "dtype: object"
      ]
     },
     "execution_count": 7,
     "metadata": {},
     "output_type": "execute_result"
    }
   ],
   "source": [
    "solar_nrel3.dtypes"
   ]
  },
  {
   "cell_type": "code",
   "execution_count": 8,
   "metadata": {},
   "outputs": [],
   "source": [
    "solar_nrel = solar_nrel.rename(columns={'Unnamed: 0':'TIMESTAMP'})\n",
    "solar_nrel1 = solar_nrel1.rename(columns={'Unnamed: 0':'TIMESTAMP'})\n",
    "solar_nrel2 = solar_nrel2.rename(columns={'Unnamed: 0':'TIMESTAMP'})\n",
    "solar_nrel3 = solar_nrel3.rename(columns={'Unnamed: 0':'TIMESTAMP'})"
   ]
  },
  {
   "cell_type": "code",
   "execution_count": 9,
   "metadata": {},
   "outputs": [
    {
     "data": {
      "text/html": [
       "<div>\n",
       "<style scoped>\n",
       "    .dataframe tbody tr th:only-of-type {\n",
       "        vertical-align: middle;\n",
       "    }\n",
       "\n",
       "    .dataframe tbody tr th {\n",
       "        vertical-align: top;\n",
       "    }\n",
       "\n",
       "    .dataframe thead th {\n",
       "        text-align: right;\n",
       "    }\n",
       "</style>\n",
       "<table border=\"1\" class=\"dataframe\">\n",
       "  <thead>\n",
       "    <tr style=\"text-align: right;\">\n",
       "      <th></th>\n",
       "      <th>TIMESTAMP</th>\n",
       "      <th>Year</th>\n",
       "      <th>Month</th>\n",
       "      <th>Day</th>\n",
       "      <th>Hour</th>\n",
       "      <th>Minute</th>\n",
       "      <th>GHI</th>\n",
       "      <th>DHI</th>\n",
       "      <th>DNI</th>\n",
       "      <th>Wind Speed</th>\n",
       "      <th>Temperature</th>\n",
       "      <th>Cloud Type</th>\n",
       "      <th>Solar Zenith Angle</th>\n",
       "      <th>Surface Albedo</th>\n",
       "      <th>Wind Direction</th>\n",
       "      <th>Pressure</th>\n",
       "      <th>Precipitable Water</th>\n",
       "      <th>Relative Humidity</th>\n",
       "    </tr>\n",
       "  </thead>\n",
       "  <tbody>\n",
       "    <tr>\n",
       "      <th>0</th>\n",
       "      <td>2018-01-01 00:00:00</td>\n",
       "      <td>2018</td>\n",
       "      <td>1</td>\n",
       "      <td>1</td>\n",
       "      <td>0</td>\n",
       "      <td>0</td>\n",
       "      <td>0</td>\n",
       "      <td>0</td>\n",
       "      <td>0</td>\n",
       "      <td>1.7</td>\n",
       "      <td>-11.2</td>\n",
       "      <td>0</td>\n",
       "      <td>163.65</td>\n",
       "      <td>0.87</td>\n",
       "      <td>313</td>\n",
       "      <td>1014</td>\n",
       "      <td>0.3</td>\n",
       "      <td>76.91</td>\n",
       "    </tr>\n",
       "    <tr>\n",
       "      <th>1</th>\n",
       "      <td>2018-01-01 00:30:00</td>\n",
       "      <td>2018</td>\n",
       "      <td>1</td>\n",
       "      <td>1</td>\n",
       "      <td>0</td>\n",
       "      <td>30</td>\n",
       "      <td>0</td>\n",
       "      <td>0</td>\n",
       "      <td>0</td>\n",
       "      <td>1.7</td>\n",
       "      <td>-11.3</td>\n",
       "      <td>0</td>\n",
       "      <td>163.43</td>\n",
       "      <td>0.87</td>\n",
       "      <td>314</td>\n",
       "      <td>1015</td>\n",
       "      <td>0.3</td>\n",
       "      <td>77.61</td>\n",
       "    </tr>\n",
       "    <tr>\n",
       "      <th>2</th>\n",
       "      <td>2018-01-01 01:00:00</td>\n",
       "      <td>2018</td>\n",
       "      <td>1</td>\n",
       "      <td>1</td>\n",
       "      <td>1</td>\n",
       "      <td>0</td>\n",
       "      <td>0</td>\n",
       "      <td>0</td>\n",
       "      <td>0</td>\n",
       "      <td>1.7</td>\n",
       "      <td>-11.4</td>\n",
       "      <td>0</td>\n",
       "      <td>160.95</td>\n",
       "      <td>0.87</td>\n",
       "      <td>316</td>\n",
       "      <td>1015</td>\n",
       "      <td>0.3</td>\n",
       "      <td>78.65</td>\n",
       "    </tr>\n",
       "    <tr>\n",
       "      <th>3</th>\n",
       "      <td>2018-01-01 01:30:00</td>\n",
       "      <td>2018</td>\n",
       "      <td>1</td>\n",
       "      <td>1</td>\n",
       "      <td>1</td>\n",
       "      <td>30</td>\n",
       "      <td>0</td>\n",
       "      <td>0</td>\n",
       "      <td>0</td>\n",
       "      <td>1.7</td>\n",
       "      <td>-11.5</td>\n",
       "      <td>0</td>\n",
       "      <td>156.93</td>\n",
       "      <td>0.87</td>\n",
       "      <td>317</td>\n",
       "      <td>1015</td>\n",
       "      <td>0.2</td>\n",
       "      <td>79.28</td>\n",
       "    </tr>\n",
       "    <tr>\n",
       "      <th>4</th>\n",
       "      <td>2018-01-01 02:00:00</td>\n",
       "      <td>2018</td>\n",
       "      <td>1</td>\n",
       "      <td>1</td>\n",
       "      <td>2</td>\n",
       "      <td>0</td>\n",
       "      <td>0</td>\n",
       "      <td>0</td>\n",
       "      <td>0</td>\n",
       "      <td>1.8</td>\n",
       "      <td>-11.5</td>\n",
       "      <td>0</td>\n",
       "      <td>152.04</td>\n",
       "      <td>0.87</td>\n",
       "      <td>318</td>\n",
       "      <td>1015</td>\n",
       "      <td>0.2</td>\n",
       "      <td>79.31</td>\n",
       "    </tr>\n",
       "    <tr>\n",
       "      <th>...</th>\n",
       "      <td>...</td>\n",
       "      <td>...</td>\n",
       "      <td>...</td>\n",
       "      <td>...</td>\n",
       "      <td>...</td>\n",
       "      <td>...</td>\n",
       "      <td>...</td>\n",
       "      <td>...</td>\n",
       "      <td>...</td>\n",
       "      <td>...</td>\n",
       "      <td>...</td>\n",
       "      <td>...</td>\n",
       "      <td>...</td>\n",
       "      <td>...</td>\n",
       "      <td>...</td>\n",
       "      <td>...</td>\n",
       "      <td>...</td>\n",
       "      <td>...</td>\n",
       "    </tr>\n",
       "    <tr>\n",
       "      <th>17515</th>\n",
       "      <td>2018-12-31 21:30:00</td>\n",
       "      <td>2018</td>\n",
       "      <td>12</td>\n",
       "      <td>31</td>\n",
       "      <td>21</td>\n",
       "      <td>30</td>\n",
       "      <td>0</td>\n",
       "      <td>0</td>\n",
       "      <td>0</td>\n",
       "      <td>2.0</td>\n",
       "      <td>-10.4</td>\n",
       "      <td>0</td>\n",
       "      <td>142.09</td>\n",
       "      <td>0.87</td>\n",
       "      <td>320</td>\n",
       "      <td>1014</td>\n",
       "      <td>0.3</td>\n",
       "      <td>69.50</td>\n",
       "    </tr>\n",
       "    <tr>\n",
       "      <th>17516</th>\n",
       "      <td>2018-12-31 22:00:00</td>\n",
       "      <td>2018</td>\n",
       "      <td>12</td>\n",
       "      <td>31</td>\n",
       "      <td>22</td>\n",
       "      <td>0</td>\n",
       "      <td>0</td>\n",
       "      <td>0</td>\n",
       "      <td>0</td>\n",
       "      <td>1.9</td>\n",
       "      <td>-10.5</td>\n",
       "      <td>0</td>\n",
       "      <td>147.67</td>\n",
       "      <td>0.87</td>\n",
       "      <td>318</td>\n",
       "      <td>1014</td>\n",
       "      <td>0.3</td>\n",
       "      <td>70.88</td>\n",
       "    </tr>\n",
       "    <tr>\n",
       "      <th>17517</th>\n",
       "      <td>2018-12-31 22:30:00</td>\n",
       "      <td>2018</td>\n",
       "      <td>12</td>\n",
       "      <td>31</td>\n",
       "      <td>22</td>\n",
       "      <td>30</td>\n",
       "      <td>0</td>\n",
       "      <td>0</td>\n",
       "      <td>0</td>\n",
       "      <td>1.8</td>\n",
       "      <td>-10.7</td>\n",
       "      <td>4</td>\n",
       "      <td>152.96</td>\n",
       "      <td>0.87</td>\n",
       "      <td>316</td>\n",
       "      <td>1014</td>\n",
       "      <td>0.3</td>\n",
       "      <td>72.01</td>\n",
       "    </tr>\n",
       "    <tr>\n",
       "      <th>17518</th>\n",
       "      <td>2018-12-31 23:00:00</td>\n",
       "      <td>2018</td>\n",
       "      <td>12</td>\n",
       "      <td>31</td>\n",
       "      <td>23</td>\n",
       "      <td>0</td>\n",
       "      <td>0</td>\n",
       "      <td>0</td>\n",
       "      <td>0</td>\n",
       "      <td>1.8</td>\n",
       "      <td>-10.9</td>\n",
       "      <td>0</td>\n",
       "      <td>157.72</td>\n",
       "      <td>0.87</td>\n",
       "      <td>315</td>\n",
       "      <td>1014</td>\n",
       "      <td>0.3</td>\n",
       "      <td>74.25</td>\n",
       "    </tr>\n",
       "    <tr>\n",
       "      <th>17519</th>\n",
       "      <td>2018-12-31 23:30:00</td>\n",
       "      <td>2018</td>\n",
       "      <td>12</td>\n",
       "      <td>31</td>\n",
       "      <td>23</td>\n",
       "      <td>30</td>\n",
       "      <td>0</td>\n",
       "      <td>0</td>\n",
       "      <td>0</td>\n",
       "      <td>1.7</td>\n",
       "      <td>-11.1</td>\n",
       "      <td>0</td>\n",
       "      <td>161.52</td>\n",
       "      <td>0.87</td>\n",
       "      <td>314</td>\n",
       "      <td>1014</td>\n",
       "      <td>0.3</td>\n",
       "      <td>75.44</td>\n",
       "    </tr>\n",
       "  </tbody>\n",
       "</table>\n",
       "<p>17520 rows × 18 columns</p>\n",
       "</div>"
      ],
      "text/plain": [
       "                TIMESTAMP  Year  Month  Day  Hour  Minute  GHI  DHI  DNI  \\\n",
       "0     2018-01-01 00:00:00  2018      1    1     0       0    0    0    0   \n",
       "1     2018-01-01 00:30:00  2018      1    1     0      30    0    0    0   \n",
       "2     2018-01-01 01:00:00  2018      1    1     1       0    0    0    0   \n",
       "3     2018-01-01 01:30:00  2018      1    1     1      30    0    0    0   \n",
       "4     2018-01-01 02:00:00  2018      1    1     2       0    0    0    0   \n",
       "...                   ...   ...    ...  ...   ...     ...  ...  ...  ...   \n",
       "17515 2018-12-31 21:30:00  2018     12   31    21      30    0    0    0   \n",
       "17516 2018-12-31 22:00:00  2018     12   31    22       0    0    0    0   \n",
       "17517 2018-12-31 22:30:00  2018     12   31    22      30    0    0    0   \n",
       "17518 2018-12-31 23:00:00  2018     12   31    23       0    0    0    0   \n",
       "17519 2018-12-31 23:30:00  2018     12   31    23      30    0    0    0   \n",
       "\n",
       "       Wind Speed  Temperature  Cloud Type  Solar Zenith Angle  \\\n",
       "0             1.7        -11.2           0              163.65   \n",
       "1             1.7        -11.3           0              163.43   \n",
       "2             1.7        -11.4           0              160.95   \n",
       "3             1.7        -11.5           0              156.93   \n",
       "4             1.8        -11.5           0              152.04   \n",
       "...           ...          ...         ...                 ...   \n",
       "17515         2.0        -10.4           0              142.09   \n",
       "17516         1.9        -10.5           0              147.67   \n",
       "17517         1.8        -10.7           4              152.96   \n",
       "17518         1.8        -10.9           0              157.72   \n",
       "17519         1.7        -11.1           0              161.52   \n",
       "\n",
       "       Surface Albedo  Wind Direction  Pressure  Precipitable Water  \\\n",
       "0                0.87             313      1014                 0.3   \n",
       "1                0.87             314      1015                 0.3   \n",
       "2                0.87             316      1015                 0.3   \n",
       "3                0.87             317      1015                 0.2   \n",
       "4                0.87             318      1015                 0.2   \n",
       "...               ...             ...       ...                 ...   \n",
       "17515            0.87             320      1014                 0.3   \n",
       "17516            0.87             318      1014                 0.3   \n",
       "17517            0.87             316      1014                 0.3   \n",
       "17518            0.87             315      1014                 0.3   \n",
       "17519            0.87             314      1014                 0.3   \n",
       "\n",
       "       Relative Humidity  \n",
       "0                  76.91  \n",
       "1                  77.61  \n",
       "2                  78.65  \n",
       "3                  79.28  \n",
       "4                  79.31  \n",
       "...                  ...  \n",
       "17515              69.50  \n",
       "17516              70.88  \n",
       "17517              72.01  \n",
       "17518              74.25  \n",
       "17519              75.44  \n",
       "\n",
       "[17520 rows x 18 columns]"
      ]
     },
     "execution_count": 9,
     "metadata": {},
     "output_type": "execute_result"
    }
   ],
   "source": [
    "solar_nrel3"
   ]
  },
  {
   "cell_type": "code",
   "execution_count": 10,
   "metadata": {},
   "outputs": [
    {
     "data": {
      "text/plain": [
       "(17520, 18)"
      ]
     },
     "execution_count": 10,
     "metadata": {},
     "output_type": "execute_result"
    }
   ],
   "source": [
    "# len(solar_nrel.index)\n",
    "# len(solar_nrel.columns)\n",
    "\n",
    "solar_nrel3.shape\n"
   ]
  },
  {
   "cell_type": "code",
   "execution_count": 11,
   "metadata": {},
   "outputs": [],
   "source": [
    "solar_nrel.to_csv(\"nrel_2015.csv\")\n",
    "solar_nrel1.to_csv(\"nrel_2016.csv\")\n",
    "solar_nrel2.to_csv(\"nrel_2017.csv\")\n",
    "solar_nrel3.to_csv(\"nrel_2018.csv\")"
   ]
  },
  {
   "cell_type": "code",
   "execution_count": null,
   "metadata": {},
   "outputs": [],
   "source": [
    "path = os.getcwd()\n",
    "csv_files = glob.glob(os.path.join(path, \"*.csv\"))\n",
    "\n",
    "for f in csv_files:\n",
    "    \n",
    "    panel_df = pd.read_csv(f)\n",
    "\n",
    "    panel_timestamp = panel_df[[\n",
    "    'TIMESTAMP',]]\n",
    "\n",
    "    panel_timestamp = pd.to_datetime(panel_df[\"TIMESTAMP\"])\n",
    "\n",
    "    panel_df[\"TIMESTAMP\"] = panel_timestamp.dt.strftime(\"%Y-%m-%d %H:%M:%S\")\n",
    "\n",
    "    panel_timestamp.dropna()\n",
    "\n",
    "    panel_db = panel_df[[\"TIMESTAMP\", \"InvPDC_kW_Avg\"]]\n",
    "\n",
    "    panel_db.to_csv(f)\n",
    "\n",
    "    print('Location:', f)\n",
    "    print('File Name:', f.split(\"\\\\\")[-1])\n",
    "\n",
    "    display(panel_db)\n",
    "    print()\n",
    "\n",
    "\n",
    "# Citations: https://www.geeksforgeeks.org/how-to-read-all-csv-files-in-a-folder-in-pandas/"
   ]
  },
  {
   "cell_type": "code",
   "execution_count": null,
   "metadata": {},
   "outputs": [],
   "source": [
    "    # panel_timestamp = panel_df[[\n",
    "    # 'TIMESTAMP', ]]"
   ]
  },
  {
   "cell_type": "code",
   "execution_count": null,
   "metadata": {},
   "outputs": [],
   "source": [
    "# filepath = Path(\"onemin-Canopy-2015-01-01.csv\")\n",
    "# panel_df = pd.read_csv(filepath)\n",
    "# panel_df.head()"
   ]
  },
  {
   "cell_type": "code",
   "execution_count": null,
   "metadata": {},
   "outputs": [],
   "source": [
    "# panel_timestamp = panel_df[[\n",
    "#     'TIMESTAMP',\n",
    "# ]]\n",
    "# # panel_timestamp"
   ]
  },
  {
   "cell_type": "code",
   "execution_count": null,
   "metadata": {},
   "outputs": [],
   "source": [
    "# panel_timestamp.dropna()"
   ]
  },
  {
   "cell_type": "code",
   "execution_count": null,
   "metadata": {},
   "outputs": [],
   "source": [
    "# panel_timestamp.dtypes"
   ]
  },
  {
   "cell_type": "code",
   "execution_count": null,
   "metadata": {},
   "outputs": [],
   "source": [
    "# panel_df[\"TIMESTAMP\"] = pd.to_datetime(panel_df[\"TIMESTAMP\"])\n",
    "# panel_df"
   ]
  },
  {
   "cell_type": "code",
   "execution_count": null,
   "metadata": {},
   "outputs": [],
   "source": [
    "# panel_df = panel_df[\"TIMESTAMP\"].dt.strftime(\"%Y-%m-%d %H:%M:%S\")\n",
    "# panel_df"
   ]
  },
  {
   "cell_type": "code",
   "execution_count": null,
   "metadata": {},
   "outputs": [],
   "source": [
    "# panel_df.dtypes"
   ]
  },
  {
   "cell_type": "code",
   "execution_count": null,
   "metadata": {},
   "outputs": [],
   "source": [
    "# panel_df[\"TIMESTAMP\"] = panel_timestamp.dt.strftime(\"%Y-%m-%d %H:%M:%S\")"
   ]
  },
  {
   "cell_type": "code",
   "execution_count": null,
   "metadata": {},
   "outputs": [],
   "source": [
    "# DataFrame Checkpoint\n",
    "\n",
    "panel_df"
   ]
  },
  {
   "cell_type": "code",
   "execution_count": null,
   "metadata": {},
   "outputs": [],
   "source": [
    "# t = r\"(\\d{4})-(\\d{2})-(\\d{2})(\\s)(\\d{2}):(\\d{2}):(\\d{2})\"\n",
    "# t2 = r\"(\\d{4})-(\\d{2})-(\\d{2})(\\s)([0-2][0-3]):(30):(\\d{2})\"\n",
    "\n",
    "# panel_timestamp[panel_timestamp[\"TIMESTAMP\"].str.contains(t)]"
   ]
  },
  {
   "cell_type": "code",
   "execution_count": null,
   "metadata": {},
   "outputs": [],
   "source": [
    "# panel_df['TIMESTAMP'] = pd.to_datetime(panel_timestamp['TIMESTAMP'], format=\"%m/%d/%Y %I:%M:%S %p\")"
   ]
  },
  {
   "cell_type": "markdown",
   "metadata": {},
   "source": [
    "# Weather Station Data"
   ]
  },
  {
   "cell_type": "code",
   "execution_count": 1,
   "metadata": {},
   "outputs": [
    {
     "ename": "NameError",
     "evalue": "name 'Path' is not defined",
     "output_type": "error",
     "traceback": [
      "\u001b[1;31m---------------------------------------------------------------------------\u001b[0m",
      "\u001b[1;31mNameError\u001b[0m                                 Traceback (most recent call last)",
      "\u001b[1;32m<ipython-input-1-790c77129e81>\u001b[0m in \u001b[0;36m<module>\u001b[1;34m\u001b[0m\n\u001b[1;32m----> 1\u001b[1;33m \u001b[0mpath\u001b[0m \u001b[1;33m=\u001b[0m \u001b[0mPath\u001b[0m\u001b[1;33m(\u001b[0m\u001b[1;34m'Resources/ws_2015/01/onemin-WS_1-2015-01-01.csv'\u001b[0m\u001b[1;33m)\u001b[0m\u001b[1;33m\u001b[0m\u001b[1;33m\u001b[0m\u001b[0m\n\u001b[0m\u001b[0;32m      2\u001b[0m \u001b[0mcsv_files\u001b[0m \u001b[1;33m=\u001b[0m \u001b[0mglob\u001b[0m\u001b[1;33m.\u001b[0m\u001b[0mglob\u001b[0m\u001b[1;33m(\u001b[0m\u001b[0mos\u001b[0m\u001b[1;33m.\u001b[0m\u001b[0mpath\u001b[0m\u001b[1;33m.\u001b[0m\u001b[0mjoin\u001b[0m\u001b[1;33m(\u001b[0m\u001b[0mpath\u001b[0m\u001b[1;33m,\u001b[0m \u001b[1;34m\"*.csv\"\u001b[0m\u001b[1;33m)\u001b[0m\u001b[1;33m)\u001b[0m\u001b[1;33m\u001b[0m\u001b[1;33m\u001b[0m\u001b[0m\n\u001b[0;32m      3\u001b[0m \u001b[1;33m\u001b[0m\u001b[0m\n\u001b[0;32m      4\u001b[0m \u001b[1;32mfor\u001b[0m \u001b[0mf\u001b[0m \u001b[1;32min\u001b[0m \u001b[0mcsv_files\u001b[0m\u001b[1;33m:\u001b[0m\u001b[1;33m\u001b[0m\u001b[1;33m\u001b[0m\u001b[0m\n\u001b[0;32m      5\u001b[0m \u001b[1;33m\u001b[0m\u001b[0m\n",
      "\u001b[1;31mNameError\u001b[0m: name 'Path' is not defined"
     ]
    }
   ],
   "source": [
    "path = Path('Resources/ws_2015/01/onemin-WS_1-2015-01-01.csv')\n",
    "csv_files = glob.glob(os.path.join(path, \"*.csv\"))\n",
    "\n",
    "for f in csv_files:\n",
    "        \n",
    "    panel_df = pd.read_csv(f)\n",
    "\n",
    "    panel_timestamp = panel_df[[\n",
    "    'TIMESTAMP',]]\n",
    "\n",
    "    panel_timestamp.dropna()\n",
    "\n",
    "    panel_timestamp = pd.to_datetime(panel_df[\"TIMESTAMP\"])\n",
    "\n",
    "    panel_df[\"TIMESTAMP\"] = panel_timestamp.dt.strftime(\"%Y-%m-%d %H:%M:%S\")\n",
    "\n",
    "    print('Location:', f)\n",
    "    print('File Name:', f.split(\"\\\\\")[-1])\n",
    "\n",
    "    print('Content:')\n",
    "    display(panel_df)\n",
    "    print()\n",
    "\n",
    "\n",
    "# Citations: https://www.geeksforgeeks.org/how-to-read-all-csv-files-in-a-folder-in-pandas/"
   ]
  },
  {
   "cell_type": "code",
   "execution_count": null,
   "metadata": {},
   "outputs": [],
   "source": []
  },
  {
   "cell_type": "code",
   "execution_count": null,
   "metadata": {},
   "outputs": [],
   "source": []
  },
  {
   "cell_type": "code",
   "execution_count": null,
   "metadata": {},
   "outputs": [],
   "source": []
  },
  {
   "cell_type": "code",
   "execution_count": null,
   "metadata": {},
   "outputs": [],
   "source": []
  },
  {
   "cell_type": "code",
   "execution_count": null,
   "metadata": {},
   "outputs": [],
   "source": []
  },
  {
   "cell_type": "code",
   "execution_count": null,
   "metadata": {},
   "outputs": [],
   "source": []
  },
  {
   "cell_type": "code",
   "execution_count": null,
   "metadata": {},
   "outputs": [],
   "source": []
  },
  {
   "cell_type": "code",
   "execution_count": null,
   "metadata": {},
   "outputs": [],
   "source": []
  }
 ],
 "metadata": {
  "file_extension": ".py",
  "interpreter": {
   "hash": "cffb0d11f781898b44a9cc79aed6dd6416b2ec0fa939bf65b60927ea853bdc02"
  },
  "kernelspec": {
   "display_name": "Python 3.7.10 64-bit ('mlenv': conda)",
   "name": "python3"
  },
  "language_info": {
   "codemirror_mode": {
    "name": "ipython",
    "version": 3
   },
   "file_extension": ".py",
   "mimetype": "text/x-python",
   "name": "python",
   "nbconvert_exporter": "python",
   "pygments_lexer": "ipython3",
   "version": "3.7.10"
  },
  "mimetype": "text/x-python",
  "name": "python",
  "npconvert_exporter": "python",
  "pygments_lexer": "ipython3",
  "version": 3
 },
 "nbformat": 4,
 "nbformat_minor": 2
}
