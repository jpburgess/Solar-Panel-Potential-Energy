{
 "cells": [
  {
   "cell_type": "code",
   "execution_count": null,
   "id": "ef374bf2",
   "metadata": {},
   "outputs": [],
   "source": [
    "import pandas as pd\n",
    "import numpy as np\n",
    "import sys, os\n",
    "from IPython.display import display"
   ]
  },
  {
   "cell_type": "code",
   "execution_count": null,
   "id": "c85ed05b",
   "metadata": {
    "scrolled": true
   },
   "outputs": [],
   "source": [
    "# Declare all variables as strings. Spaces must be replaced with '+', i.e., change 'John Smith' to 'John+Smith'.\n",
    "  # Define the lat, long of the location and the year\n",
    "lat, lon = 39.1354, -77.2156\n",
    "  # You must request an NSRDB api key from the link above\n",
    "api_key = '9YugNx8TuYSPparpgZSoFWtCNEoZDhHdhbVNssPS'\n",
    "  # Set the attributes to extract (e.g., dhi, ghi, etc.), separated by commas.\n",
    "attributes = 'ghi,dhi,dni,wind_speed,air_temperature,cloud_type,solar_zenith_angle,surface_albedo,wind_direction,surface_pressure,total_precipitable_water'\n",
    "  # Choose year of data\n",
    "#attributes = 'ghi,dhi,dni,wind_speed,air_temperature,solar_zenith_angle' \n",
    "\n",
    "\n",
    "  # Set leap year to true or false. True will return leap day data if present, false will not.\n",
    "leap_year = 'false'\n",
    "  # Set time interval in minutes, i.e., '30' is half hour intervals. Valid intervals are 30 & 60.\n",
    "interval = '30'\n",
    "  # Specify Coordinated Universal Time (UTC), 'true' will use UTC, 'false' will use the local time zone of the data.\n",
    "  # NOTE: In order to use the NSRDB data in SAM, you must specify UTC as 'false'. SAM requires the data to be in the\n",
    "  # local time zone.\n",
    "utc = 'false'\n",
    "  # Your full name, use '+' instead of spaces.\n",
    "your_name = 'Elham+Amini'\n",
    "  # Your reason for using the NSRDB.\n",
    "reason_for_use = 'beta+testing'\n",
    "  # Your affiliation\n",
    "your_affiliation = 'my+institution'\n",
    "  # Your email address\n",
    "your_email = 'elhamfarvid@gmail.com'\n",
    "  # Please join our mailing list so we can keep you up-to-date on new developments.\n",
    "mailing_list = 'true'\n",
    "\n",
    "def url_for_each_year(year=\"2015\"): \n",
    "  # Declare url string\n",
    "        year=year\n",
    "        url = 'https://developer.nrel.gov/api/solar/nsrdb_psm3_download.csv?wkt=POINT({lon}%20{lat})&names={year}&leap_day={leap}&interval={interval}&utc={utc}&full_name={name}&email={email}&affiliation={affiliation}&mailing_list={mailing_list}&reason={reason}&api_key={api}&attributes={attr}'.format(year=year, lat=lat, lon=lon, leap=leap_year, interval=interval, utc=utc, name=your_name, email=your_email, mailing_list=mailing_list, affiliation=your_affiliation, reason=reason_for_use, api=api_key, attr=attributes)\n",
    "\n",
    "          # Return just the first 2 lines to get metadata:\n",
    "        info = pd.read_csv(url, nrows=1)\n",
    "          # See metadata for specified properties, e.g., timezone and elevation\n",
    "        timezone, elevation = info['Local Time Zone'], info['Elevation']\n",
    "        return info.columns.values\n",
    "    \n",
    "#call url_for_each_year and yaer by default is set to 2015 \n",
    "\n",
    "url_for_each_year(\"2016\")\n",
    "\n"
   ]
  },
  {
   "cell_type": "code",
   "execution_count": null,
   "id": "194db6df",
   "metadata": {},
   "outputs": [],
   "source": [
    "# Return all but first 2 lines of csv to get data:\n",
    "def df_base_on_year(y=\"2015\"):\n",
    "            year=y\n",
    "            url_for_each_year(year)\n",
    "            df = pd.read_csv('https://developer.nrel.gov/api/solar/nsrdb_psm3_download.csv?wkt=POINT({lon}%20{lat})&names={year}&leap_day={leap}&interval={interval}&utc={utc}&full_name={name}&email={email}&affiliation={affiliation}&mailing_list={mailing_list}&reason={reason}&api_key={api}&attributes={attr}'.format(year=year, lat=lat, lon=lon, leap=leap_year, interval=interval, utc=utc, name=your_name, email=your_email, mailing_list=mailing_list, affiliation=your_affiliation, reason=reason_for_use, api=api_key, attr=attributes), skiprows=2)\n",
    "\n",
    "              # Set the time index in the pandas dataframe:\n",
    "            df = df.set_index(pd.date_range('1/1/{yr}'.format(yr=year), freq=interval+'Min', periods=525600/int(interval)))\n",
    "\n",
    "              # take a look\n",
    "            print ('shape:',df.shape)\n",
    "            print (df.head())\n",
    "            return df\n",
    "        \n",
    "#this function by default seted to 2015        \n",
    "df_base_on_year()        "
   ]
  },
  {
   "cell_type": "code",
   "execution_count": null,
   "id": "a2e1a84f",
   "metadata": {},
   "outputs": [],
   "source": [
    "df_2015=df_base_on_year() \n",
    "df_2015.to_csv(\"Resources/solar_data_2015.csv\")"
   ]
  },
  {
   "cell_type": "code",
   "execution_count": null,
   "id": "d31a8681",
   "metadata": {
    "scrolled": true
   },
   "outputs": [],
   "source": [
    "df_2015.head()"
   ]
  },
  {
   "cell_type": "code",
   "execution_count": null,
   "id": "3759deb4",
   "metadata": {},
   "outputs": [],
   "source": [
    "df_2016=df_base_on_year(\"2016\") \n",
    "df_2016.to_csv(\"Resources/solar_data_2016.csv\")"
   ]
  },
  {
   "cell_type": "code",
   "execution_count": null,
   "id": "4911016f",
   "metadata": {
    "scrolled": true
   },
   "outputs": [],
   "source": [
    "df_2017=df_base_on_year(\"2017\") \n",
    "df_2017.to_csv(\"Resources/solar_data_2017.csv\")"
   ]
  },
  {
   "cell_type": "code",
   "execution_count": null,
   "id": "0f898416",
   "metadata": {},
   "outputs": [],
   "source": [
    "df_2017.head()"
   ]
  },
  {
   "cell_type": "code",
   "execution_count": null,
   "id": "2f8cb8ef",
   "metadata": {},
   "outputs": [],
   "source": [
    "df_2018=df_base_on_year(\"2018\") \n",
    "df_2018.to_csv(\"Resources/solar_data_2018.csv\")"
   ]
  }
 ],
 "metadata": {
  "kernelspec": {
   "display_name": "mlenv",
   "language": "python",
   "name": "mlenv"
  },
  "language_info": {
   "codemirror_mode": {
    "name": "ipython",
    "version": 3
   },
   "file_extension": ".py",
   "mimetype": "text/x-python",
   "name": "python",
   "nbconvert_exporter": "python",
   "pygments_lexer": "ipython3",
   "version": "3.7.11"
  }
 },
 "nbformat": 4,
 "nbformat_minor": 5
}
